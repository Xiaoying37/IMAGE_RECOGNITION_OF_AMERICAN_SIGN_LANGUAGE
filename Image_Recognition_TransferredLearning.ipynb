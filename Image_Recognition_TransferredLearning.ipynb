{
  "cells": [
    {
      "cell_type": "markdown",
      "source": [
        "# Data Preprocess of X-ception, ResNet50, Inceptionv3"
      ],
      "metadata": {
        "id": "7SwsNJPUsVWf"
      }
    },
    {
      "cell_type": "code",
      "execution_count": null,
      "metadata": {
        "id": "tm1rk53Gpl4p"
      },
      "outputs": [],
      "source": [
        "import os\n",
        "import numpy as np\n",
        "from os import listdir\n",
        "from imageio import imread\n",
        "from keras.utils import to_categorical\n",
        "from sklearn.model_selection import train_test_split\n",
        "from keras.utils.image_utils import img_to_array\n",
        "\n",
        "import PIL\n",
        "import matplotlib.pyplot as plt"
      ]
    },
    {
      "cell_type": "code",
      "execution_count": null,
      "metadata": {
        "id": "6LBFxjyCugpk"
      },
      "outputs": [],
      "source": [
        "# Settings \n",
        "num_classes = 10\n",
        "test_size = 0.2"
      ]
    },
    {
      "cell_type": "markdown",
      "metadata": {
        "id": "Aei3nIsElvKZ"
      },
      "source": [
        "read image and convert to 3d array"
      ]
    },
    {
      "cell_type": "code",
      "execution_count": null,
      "metadata": {
        "id": "x0DSTAtTuoZs"
      },
      "outputs": [],
      "source": [
        "def get_img(data_path): \n",
        "  ## Getting image array from path: \n",
        "  img = PIL.Image.open(data_path)\n",
        "  img = img.convert(\"L\")\n",
        "  img = img_to_array(img)\n",
        "  img = np.resize(img, (100, 100, 3))\n",
        "  return img"
      ]
    },
    {
      "cell_type": "markdown",
      "metadata": {
        "id": "p1eDElM6i80O"
      },
      "source": [
        "Get dataset from picture and then split to train and test set"
      ]
    },
    {
      "cell_type": "code",
      "execution_count": null,
      "metadata": {
        "colab": {
          "base_uri": "https://localhost:8080/"
        },
        "id": "51GeBQZ28elF",
        "outputId": "459ddca1-d73c-4757-8c46-d4cb7ab44111"
      },
      "outputs": [
        {
          "output_type": "stream",
          "name": "stdout",
          "text": [
            "Mounted at /content/drive\n",
            "(1649, 100, 100, 3)\n",
            "(413, 100, 100, 3)\n",
            "(1649, 10)\n",
            "(413, 10)\n"
          ]
        }
      ],
      "source": [
        "from google.colab import drive\n",
        "drive.mount('/content/drive')\n",
        "dataset_path = \"/content/drive/MyDrive/Dataset\"\n",
        "\n",
        "## Getting all data from data path\n",
        "labels = sorted(listdir(dataset_path))\n",
        "X = []\n",
        "Y = []\n",
        "for i, label in enumerate(labels): \n",
        "  data_path = dataset_path + \"/\" + label\n",
        "  \n",
        "  for data in listdir(data_path): \n",
        "    img = get_img(data_path + \"/\" + data)\n",
        "    X.append(img)\n",
        "    Y.append(i)\n",
        "## create dataset \n",
        "X = 1 - np.array(X).astype(\"float32\") /255\n",
        "Y = np.array(Y).astype(\"float32\")\n",
        "Y = to_categorical(Y, num_classes)\n",
        "\n",
        "X, X_test, Y, Y_test = train_test_split(X, Y, test_size=test_size, random_state = 42)\n",
        "print(X.shape)\n",
        "print(X_test.shape)\n",
        "print(Y.shape)\n",
        "print(Y_test.shape)\n"
      ]
    },
    {
      "cell_type": "code",
      "execution_count": null,
      "metadata": {
        "id": "7bcUyDrA_bb-"
      },
      "outputs": [],
      "source": [
        "import tensorflow as tf\n",
        "from numpy.random import seed\n",
        "seed(123)\n",
        "tf.random.set_seed(123)"
      ]
    },
    {
      "cell_type": "code",
      "source": [
        "import tensorflow as tf\n",
        "from tensorflow import keras\n",
        "import numpy as np\n",
        "import pandas as pd\n",
        "import sklearn as sk\n",
        "import time\n",
        "from keras.datasets import mnist\n",
        "from keras.models import Sequential, load_model\n",
        "from keras.layers import Dense, Dropout, Flatten\n",
        "from keras import optimizers\n",
        "from keras import backend as K\n",
        "from keras import regularizers\n",
        "from keras import initializers\n",
        "from matplotlib import pyplot as plt\n",
        "from sklearn.model_selection import train_test_split\n",
        "from keras.utils import to_categorical\n",
        "import math \n",
        "from keras import applications"
      ],
      "metadata": {
        "id": "9HBS8wnVPPai"
      },
      "execution_count": null,
      "outputs": []
    },
    {
      "cell_type": "code",
      "source": [
        "img_height = 100\n",
        "img_width = 100"
      ],
      "metadata": {
        "id": "ZlNw08AI-eXl"
      },
      "execution_count": null,
      "outputs": []
    },
    {
      "cell_type": "code",
      "source": [
        "# Creating validation set and training set by partitioning the current training set\n",
        "val = X[:274]\n",
        "partial = X[274:]\n",
        "val_labels = Y[:274]\n",
        "partial_labels = Y[274:]"
      ],
      "metadata": {
        "id": "UDV0SdgmCikk"
      },
      "execution_count": null,
      "outputs": []
    },
    {
      "cell_type": "code",
      "source": [
        "print(X.shape)\n",
        "print(val.shape)\n",
        "print(partial.shape)"
      ],
      "metadata": {
        "colab": {
          "base_uri": "https://localhost:8080/"
        },
        "id": "qEJmy4JNCm1I",
        "outputId": "e69afcb1-4391-4d06-a1f6-115bec2f285b"
      },
      "execution_count": null,
      "outputs": [
        {
          "output_type": "stream",
          "name": "stdout",
          "text": [
            "(1649, 100, 100, 3)\n",
            "(274, 100, 100, 3)\n",
            "(1375, 100, 100, 3)\n"
          ]
        }
      ]
    },
    {
      "cell_type": "markdown",
      "source": [
        "# X-ception"
      ],
      "metadata": {
        "id": "14uGXo-hN29J"
      }
    },
    {
      "cell_type": "markdown",
      "source": [
        "When building the last layers of X-ception, I first added the GlobalAveragePooling2D() to create feature map for each cagetory. I then added dense layer but it didn't help. I tried several drop out values and found 0.4 the best. After tuning the last layers, I unfreeze the base model and retrain the whole model with a very low learning rate. I've tried some different values of learning rate and found lr = le-5 the best. When fit the model, I used EarlyStopping function in keras to find the optimal epoch value (=27) to avoid the issue of overfiffting."
      ],
      "metadata": {
        "id": "TNSxcoCxaXUU"
      }
    },
    {
      "cell_type": "code",
      "execution_count": null,
      "metadata": {
        "id": "lyDpZ6nI_Coa"
      },
      "outputs": [],
      "source": [
        "#Load the Xception pre-trained model\n",
        "#include_top=False means that you’re not interested in the last layer of the model. You will be creating and training this layer yourself.\n",
        "base_model = keras.applications.Xception(\n",
        "    weights='imagenet',\n",
        "    input_shape=(img_height, img_width, 3),\n",
        "    include_top=False)"
      ]
    },
    {
      "cell_type": "code",
      "execution_count": null,
      "metadata": {
        "id": "szBmR9XE2Ggz"
      },
      "outputs": [],
      "source": [
        "#To prevent the base model being retrained\n",
        "base_model.trainable = False"
      ]
    },
    {
      "cell_type": "code",
      "execution_count": null,
      "metadata": {
        "id": "C-93Xa5h9mJ0"
      },
      "outputs": [],
      "source": [
        "inputs = keras.Input(shape=(img_height, img_width, 3))"
      ]
    },
    {
      "cell_type": "code",
      "source": [
        "#Preprocess inputs as expected by Xception\n",
        "#scale from (0,1) to (-1,1)\n",
        "x = tf.keras.applications.xception.preprocess_input(inputs)"
      ],
      "metadata": {
        "id": "NMOelTHmRycB"
      },
      "execution_count": null,
      "outputs": []
    },
    {
      "cell_type": "code",
      "source": [
        "#Build the last layers\n",
        "#Use the functional API method in Keras to illustrate this approach\n",
        "x = base_model(x, training=False)\n",
        "x = keras.layers.GlobalAveragePooling2D()(x)\n",
        "x = keras.layers.Dropout(0.4)(x)\n",
        "outputs = keras.layers.Dense(10)(x)\n",
        "model = keras.Model(inputs, outputs)"
      ],
      "metadata": {
        "id": "MF7ByN2nR0Ys"
      },
      "execution_count": null,
      "outputs": []
    },
    {
      "cell_type": "code",
      "source": [
        "model.summary()"
      ],
      "metadata": {
        "colab": {
          "base_uri": "https://localhost:8080/"
        },
        "id": "kW-T-OR_kyMe",
        "outputId": "514829a3-8651-4d3e-a5aa-8583c99cf5ed"
      },
      "execution_count": null,
      "outputs": [
        {
          "output_type": "stream",
          "name": "stdout",
          "text": [
            "Model: \"model_16\"\n",
            "_________________________________________________________________\n",
            " Layer (type)                Output Shape              Param #   \n",
            "=================================================================\n",
            " input_36 (InputLayer)       [(None, 100, 100, 3)]     0         \n",
            "                                                                 \n",
            " tf.math.truediv_17 (TFOpLam  (None, 100, 100, 3)      0         \n",
            " bda)                                                            \n",
            "                                                                 \n",
            " tf.math.subtract_17 (TFOpLa  (None, 100, 100, 3)      0         \n",
            " mbda)                                                           \n",
            "                                                                 \n",
            " xception (Functional)       (None, 3, 3, 2048)        20861480  \n",
            "                                                                 \n",
            " global_average_pooling2d_16  (None, 2048)             0         \n",
            "  (GlobalAveragePooling2D)                                       \n",
            "                                                                 \n",
            " dropout_16 (Dropout)        (None, 2048)              0         \n",
            "                                                                 \n",
            " dense_34 (Dense)            (None, 10)                20490     \n",
            "                                                                 \n",
            "=================================================================\n",
            "Total params: 20,881,970\n",
            "Trainable params: 20,490\n",
            "Non-trainable params: 20,861,480\n",
            "_________________________________________________________________\n"
          ]
        }
      ]
    },
    {
      "cell_type": "code",
      "source": [
        "model.compile(optimizer='adam',\n",
        "              loss=tf.keras.losses.CategoricalCrossentropy(from_logits=True),\n",
        "              metrics=['accuracy'])\n",
        "model.fit(X, Y, epochs=3, validation_data=(X_test,Y_test))"
      ],
      "metadata": {
        "colab": {
          "base_uri": "https://localhost:8080/"
        },
        "id": "5P7XJT_lR9fp",
        "outputId": "85f66246-9598-4846-a5af-ca6cfc5452c5"
      },
      "execution_count": null,
      "outputs": [
        {
          "output_type": "stream",
          "name": "stdout",
          "text": [
            "Epoch 1/3\n",
            "52/52 [==============================] - 5s 58ms/step - loss: 2.2971 - accuracy: 0.1055 - val_loss: 2.2941 - val_accuracy: 0.1259\n",
            "Epoch 2/3\n",
            "52/52 [==============================] - 2s 37ms/step - loss: 2.2825 - accuracy: 0.1686 - val_loss: 2.2829 - val_accuracy: 0.1453\n",
            "Epoch 3/3\n",
            "52/52 [==============================] - 2s 37ms/step - loss: 2.2684 - accuracy: 0.1740 - val_loss: 2.2713 - val_accuracy: 0.1743\n"
          ]
        },
        {
          "output_type": "execute_result",
          "data": {
            "text/plain": [
              "<keras.callbacks.History at 0x7fd436c87d90>"
            ]
          },
          "metadata": {},
          "execution_count": 180
        }
      ]
    },
    {
      "cell_type": "code",
      "source": [
        "# Fine-tuning\n",
        "base_model.trainable = True\n",
        "model.summary()\n",
        "\n",
        "model.compile(\n",
        "    optimizer=keras.optimizers.Adam(1e-5),  # Low learning rate\n",
        "    loss=keras.losses.CategoricalCrossentropy(from_logits=True),\n",
        "    metrics=['accuracy']\n",
        ")"
      ],
      "metadata": {
        "colab": {
          "base_uri": "https://localhost:8080/"
        },
        "id": "--GeyRDaeJrg",
        "outputId": "a24d6d8c-7674-4dcd-8230-6dafd0c71338"
      },
      "execution_count": null,
      "outputs": [
        {
          "output_type": "stream",
          "name": "stdout",
          "text": [
            "Model: \"model_16\"\n",
            "_________________________________________________________________\n",
            " Layer (type)                Output Shape              Param #   \n",
            "=================================================================\n",
            " input_36 (InputLayer)       [(None, 100, 100, 3)]     0         \n",
            "                                                                 \n",
            " tf.math.truediv_17 (TFOpLam  (None, 100, 100, 3)      0         \n",
            " bda)                                                            \n",
            "                                                                 \n",
            " tf.math.subtract_17 (TFOpLa  (None, 100, 100, 3)      0         \n",
            " mbda)                                                           \n",
            "                                                                 \n",
            " xception (Functional)       (None, 3, 3, 2048)        20861480  \n",
            "                                                                 \n",
            " global_average_pooling2d_16  (None, 2048)             0         \n",
            "  (GlobalAveragePooling2D)                                       \n",
            "                                                                 \n",
            " dropout_16 (Dropout)        (None, 2048)              0         \n",
            "                                                                 \n",
            " dense_34 (Dense)            (None, 10)                20490     \n",
            "                                                                 \n",
            "=================================================================\n",
            "Total params: 20,881,970\n",
            "Trainable params: 20,827,442\n",
            "Non-trainable params: 54,528\n",
            "_________________________________________________________________\n"
          ]
        }
      ]
    },
    {
      "cell_type": "code",
      "source": [
        "from keras import callbacks\n",
        "earlystopping = callbacks.EarlyStopping(monitor =\"val_loss\", \n",
        "                                        mode =\"min\", patience = 5, \n",
        "                                        restore_best_weights = True)\n",
        "  \n",
        "history = model.fit(partial, partial_labels, batch_size = 16, \n",
        "                    epochs = 100, validation_data =(val, val_labels), \n",
        "                    callbacks =[earlystopping])"
      ],
      "metadata": {
        "colab": {
          "base_uri": "https://localhost:8080/"
        },
        "id": "RpurK29_RDVv",
        "outputId": "d3d87160-9fc7-49c4-bda1-fce6d1b6d43f"
      },
      "execution_count": null,
      "outputs": [
        {
          "output_type": "stream",
          "name": "stdout",
          "text": [
            "Epoch 1/100\n",
            "86/86 [==============================] - 11s 84ms/step - loss: 2.1110 - accuracy: 0.1927 - val_loss: 1.8732 - val_accuracy: 0.2920\n",
            "Epoch 2/100\n",
            "86/86 [==============================] - 7s 85ms/step - loss: 1.7513 - accuracy: 0.3236 - val_loss: 1.7132 - val_accuracy: 0.2993\n",
            "Epoch 3/100\n",
            "86/86 [==============================] - 7s 78ms/step - loss: 1.4120 - accuracy: 0.4465 - val_loss: 1.4318 - val_accuracy: 0.4234\n",
            "Epoch 4/100\n",
            "86/86 [==============================] - 7s 77ms/step - loss: 1.2753 - accuracy: 0.4996 - val_loss: 1.2722 - val_accuracy: 0.5182\n",
            "Epoch 5/100\n",
            "86/86 [==============================] - 6s 73ms/step - loss: 1.1707 - accuracy: 0.5462 - val_loss: 1.1859 - val_accuracy: 0.5803\n",
            "Epoch 6/100\n",
            "86/86 [==============================] - 6s 74ms/step - loss: 1.1123 - accuracy: 0.5862 - val_loss: 1.0707 - val_accuracy: 0.5876\n",
            "Epoch 7/100\n",
            "86/86 [==============================] - 6s 73ms/step - loss: 1.0861 - accuracy: 0.5876 - val_loss: 1.2931 - val_accuracy: 0.4708\n",
            "Epoch 8/100\n",
            "86/86 [==============================] - 6s 74ms/step - loss: 1.0506 - accuracy: 0.6065 - val_loss: 0.9768 - val_accuracy: 0.6496\n",
            "Epoch 9/100\n",
            "86/86 [==============================] - 6s 74ms/step - loss: 0.9626 - accuracy: 0.6429 - val_loss: 1.3748 - val_accuracy: 0.4964\n",
            "Epoch 10/100\n",
            "86/86 [==============================] - 6s 74ms/step - loss: 0.8996 - accuracy: 0.6633 - val_loss: 0.9462 - val_accuracy: 0.6533\n",
            "Epoch 11/100\n",
            "86/86 [==============================] - 6s 74ms/step - loss: 0.8911 - accuracy: 0.6778 - val_loss: 0.8752 - val_accuracy: 0.6788\n",
            "Epoch 12/100\n",
            "86/86 [==============================] - 7s 76ms/step - loss: 0.7867 - accuracy: 0.7047 - val_loss: 0.8742 - val_accuracy: 0.6861\n",
            "Epoch 13/100\n",
            "86/86 [==============================] - 6s 75ms/step - loss: 0.7714 - accuracy: 0.7025 - val_loss: 0.8677 - val_accuracy: 0.6788\n",
            "Epoch 14/100\n",
            "86/86 [==============================] - 6s 75ms/step - loss: 0.6915 - accuracy: 0.7389 - val_loss: 0.6794 - val_accuracy: 0.7409\n",
            "Epoch 15/100\n",
            "86/86 [==============================] - 6s 73ms/step - loss: 0.7032 - accuracy: 0.7447 - val_loss: 0.7263 - val_accuracy: 0.7372\n",
            "Epoch 16/100\n",
            "86/86 [==============================] - 6s 73ms/step - loss: 0.6767 - accuracy: 0.7484 - val_loss: 1.1871 - val_accuracy: 0.6168\n",
            "Epoch 17/100\n",
            "86/86 [==============================] - 6s 73ms/step - loss: 0.6372 - accuracy: 0.7709 - val_loss: 0.6991 - val_accuracy: 0.7482\n",
            "Epoch 18/100\n",
            "86/86 [==============================] - 6s 75ms/step - loss: 0.6498 - accuracy: 0.7629 - val_loss: 0.6339 - val_accuracy: 0.7847\n",
            "Epoch 19/100\n",
            "86/86 [==============================] - 6s 73ms/step - loss: 0.5936 - accuracy: 0.7738 - val_loss: 0.7988 - val_accuracy: 0.7007\n",
            "Epoch 20/100\n",
            "86/86 [==============================] - 6s 75ms/step - loss: 0.5568 - accuracy: 0.7898 - val_loss: 0.5944 - val_accuracy: 0.7956\n",
            "Epoch 21/100\n",
            "86/86 [==============================] - 6s 73ms/step - loss: 0.5320 - accuracy: 0.8145 - val_loss: 0.6752 - val_accuracy: 0.7153\n",
            "Epoch 22/100\n",
            "86/86 [==============================] - 6s 73ms/step - loss: 0.4646 - accuracy: 0.8240 - val_loss: 0.7197 - val_accuracy: 0.7299\n",
            "Epoch 23/100\n",
            "86/86 [==============================] - 6s 73ms/step - loss: 0.4876 - accuracy: 0.8255 - val_loss: 0.7073 - val_accuracy: 0.7409\n",
            "Epoch 24/100\n",
            "86/86 [==============================] - 6s 75ms/step - loss: 0.4874 - accuracy: 0.8313 - val_loss: 0.5076 - val_accuracy: 0.8066\n",
            "Epoch 25/100\n",
            "86/86 [==============================] - 6s 74ms/step - loss: 0.4377 - accuracy: 0.8393 - val_loss: 1.1334 - val_accuracy: 0.6277\n",
            "Epoch 26/100\n",
            "86/86 [==============================] - 6s 74ms/step - loss: 0.4847 - accuracy: 0.8400 - val_loss: 0.8191 - val_accuracy: 0.6934\n",
            "Epoch 27/100\n",
            "86/86 [==============================] - 6s 74ms/step - loss: 0.4877 - accuracy: 0.8175 - val_loss: 0.7374 - val_accuracy: 0.7117\n",
            "Epoch 28/100\n",
            "86/86 [==============================] - 6s 75ms/step - loss: 0.3976 - accuracy: 0.8625 - val_loss: 0.3957 - val_accuracy: 0.8358\n",
            "Epoch 29/100\n",
            "86/86 [==============================] - 7s 78ms/step - loss: 0.3684 - accuracy: 0.8713 - val_loss: 0.4428 - val_accuracy: 0.8613\n",
            "Epoch 30/100\n",
            "86/86 [==============================] - 6s 74ms/step - loss: 0.3429 - accuracy: 0.8655 - val_loss: 0.5663 - val_accuracy: 0.7810\n",
            "Epoch 31/100\n",
            "86/86 [==============================] - 6s 74ms/step - loss: 0.3477 - accuracy: 0.8720 - val_loss: 0.9669 - val_accuracy: 0.6569\n",
            "Epoch 32/100\n",
            "86/86 [==============================] - 6s 74ms/step - loss: 0.4256 - accuracy: 0.8495 - val_loss: 0.5377 - val_accuracy: 0.8066\n",
            "Epoch 33/100\n",
            "86/86 [==============================] - 6s 75ms/step - loss: 0.3977 - accuracy: 0.8567 - val_loss: 0.4001 - val_accuracy: 0.8504\n"
          ]
        }
      ]
    },
    {
      "cell_type": "code",
      "source": [
        "score = model.evaluate(X_test,Y_test, batch_size=16)"
      ],
      "metadata": {
        "colab": {
          "base_uri": "https://localhost:8080/"
        },
        "id": "aX6WUERkcdGM",
        "outputId": "da7d45b7-f865-4837-996c-a9ad4718a8a6"
      },
      "execution_count": null,
      "outputs": [
        {
          "output_type": "stream",
          "name": "stdout",
          "text": [
            "26/26 [==============================] - 1s 20ms/step - loss: 0.3534 - accuracy: 0.8983\n"
          ]
        }
      ]
    },
    {
      "cell_type": "markdown",
      "source": [
        "The model accuracy for test dataset is 89.83%."
      ],
      "metadata": {
        "id": "kg6pXKusbTWo"
      }
    },
    {
      "cell_type": "markdown",
      "source": [
        "# ResNet50"
      ],
      "metadata": {
        "id": "J24liFWwzR6A"
      }
    },
    {
      "cell_type": "markdown",
      "source": [
        "When building the last layers of ResNet50, I first added the GlobalAveragePooling2D() to create feature map for each cagetory. I then added a dense layer. I tried different unit values and different activation functions and found that unit = 1500 and sigmoid activation improves the model performance the best. I also tried adding another dense layer but it didn't help. I tried several drop out values and found 0.4 the best. After tuning the last layers, I unfreeze the base model and retrain the whole model with a very low learning rate. I've tried some different values of learning rate and found lr = le-5 the best. When fit the model, I used EarlyStopping function in keras to find the optimal epoch value (=27) to avoid the issue of overfiffting. "
      ],
      "metadata": {
        "id": "Ks71Qz9HSWfD"
      }
    },
    {
      "cell_type": "code",
      "source": [
        "#Load the Xception pre-trained model\n",
        "#include_top=False means that you’re not interested in the last layer of the model. You will be creating and training this layer yourself.\n",
        "base_model = keras.applications.ResNet50(\n",
        "    weights='imagenet',\n",
        "    input_shape=(img_height, img_width, 3),\n",
        "    include_top=False)"
      ],
      "metadata": {
        "id": "tpGCeu780RvA"
      },
      "execution_count": null,
      "outputs": []
    },
    {
      "cell_type": "code",
      "source": [
        "#To prevent the base model being retrained\n",
        "base_model.trainable = False\n",
        "\n",
        "inputs = keras.Input(shape=(img_height, img_width, 3))\n",
        "\n",
        "# Preprocess inputs as expected by ResNet\n",
        "x = tf.keras.applications.resnet.preprocess_input(inputs)"
      ],
      "metadata": {
        "id": "q6P4MZQR5Ks-"
      },
      "execution_count": null,
      "outputs": []
    },
    {
      "cell_type": "code",
      "source": [
        "#Build the last layers\n",
        "#Use the functional API method in Keras to illustrate this approach\n",
        "x = base_model(x, training=False)\n",
        "x = keras.layers.GlobalAveragePooling2D()(x)\n",
        "x = keras.layers.Dense(1500, activation=\"sigmoid\")(x)\n",
        "x = keras.layers.Dropout(0.4)(x)\n",
        "outputs = keras.layers.Dense(10)(x)\n",
        "model = keras.Model(inputs, outputs)"
      ],
      "metadata": {
        "id": "uupFaumU6qwk"
      },
      "execution_count": null,
      "outputs": []
    },
    {
      "cell_type": "code",
      "source": [
        "model.summary()"
      ],
      "metadata": {
        "colab": {
          "base_uri": "https://localhost:8080/"
        },
        "id": "pkDzigcc8N7L",
        "outputId": "2a1a427d-cc59-4039-c354-0e55b1a33688"
      },
      "execution_count": null,
      "outputs": [
        {
          "output_type": "stream",
          "name": "stdout",
          "text": [
            "Model: \"model_19\"\n",
            "_________________________________________________________________\n",
            " Layer (type)                Output Shape              Param #   \n",
            "=================================================================\n",
            " input_23 (InputLayer)       [(None, 100, 100, 3)]     0         \n",
            "                                                                 \n",
            " tf.__operators__.getitem_19  (None, 100, 100, 3)      0         \n",
            "  (SlicingOpLambda)                                              \n",
            "                                                                 \n",
            " tf.nn.bias_add_19 (TFOpLamb  (None, 100, 100, 3)      0         \n",
            " da)                                                             \n",
            "                                                                 \n",
            " resnet50 (Functional)       (None, 4, 4, 2048)        23587712  \n",
            "                                                                 \n",
            " global_average_pooling2d_19  (None, 2048)             0         \n",
            "  (GlobalAveragePooling2D)                                       \n",
            "                                                                 \n",
            " dense_37 (Dense)            (None, 1500)              3073500   \n",
            "                                                                 \n",
            " dropout_19 (Dropout)        (None, 1500)              0         \n",
            "                                                                 \n",
            " dense_38 (Dense)            (None, 10)                15010     \n",
            "                                                                 \n",
            "=================================================================\n",
            "Total params: 26,676,222\n",
            "Trainable params: 3,088,510\n",
            "Non-trainable params: 23,587,712\n",
            "_________________________________________________________________\n"
          ]
        }
      ]
    },
    {
      "cell_type": "code",
      "source": [
        "model.compile(optimizer='adam',\n",
        "              loss=tf.keras.losses.CategoricalCrossentropy(from_logits=True),\n",
        "              metrics=['accuracy'])\n",
        "model.fit(X, Y, epochs=3, validation_data=(X_test,Y_test))"
      ],
      "metadata": {
        "colab": {
          "base_uri": "https://localhost:8080/"
        },
        "id": "f6FTzDoJ689Z",
        "outputId": "3d4f4bb9-3e58-433a-e40a-77016458b73e"
      },
      "execution_count": null,
      "outputs": [
        {
          "output_type": "stream",
          "name": "stdout",
          "text": [
            "Epoch 1/3\n",
            "52/52 [==============================] - 6s 58ms/step - loss: 2.6627 - accuracy: 0.1019 - val_loss: 2.3031 - val_accuracy: 0.1332\n",
            "Epoch 2/3\n",
            "52/52 [==============================] - 2s 40ms/step - loss: 2.4126 - accuracy: 0.1358 - val_loss: 2.2197 - val_accuracy: 0.1985\n",
            "Epoch 3/3\n",
            "52/52 [==============================] - 2s 44ms/step - loss: 2.2966 - accuracy: 0.1625 - val_loss: 2.1997 - val_accuracy: 0.1743\n"
          ]
        },
        {
          "output_type": "execute_result",
          "data": {
            "text/plain": [
              "<keras.callbacks.History at 0x7fc5fdb0a400>"
            ]
          },
          "metadata": {},
          "execution_count": 93
        }
      ]
    },
    {
      "cell_type": "code",
      "source": [
        "# fine-tuning\n",
        "base_model.trainable = True\n",
        "model.summary()\n",
        "\n",
        "model.compile(\n",
        "    optimizer=keras.optimizers.Adam(1e-5),  # Low learning rate\n",
        "    loss=keras.losses.CategoricalCrossentropy(from_logits=True),\n",
        "    metrics=['accuracy']\n",
        ")\n"
      ],
      "metadata": {
        "colab": {
          "base_uri": "https://localhost:8080/"
        },
        "id": "ESYLlsRq7PWM",
        "outputId": "0399f7f9-8087-4b3d-90e0-8415ff4d23be"
      },
      "execution_count": null,
      "outputs": [
        {
          "output_type": "stream",
          "name": "stdout",
          "text": [
            "Model: \"model_19\"\n",
            "_________________________________________________________________\n",
            " Layer (type)                Output Shape              Param #   \n",
            "=================================================================\n",
            " input_23 (InputLayer)       [(None, 100, 100, 3)]     0         \n",
            "                                                                 \n",
            " tf.__operators__.getitem_19  (None, 100, 100, 3)      0         \n",
            "  (SlicingOpLambda)                                              \n",
            "                                                                 \n",
            " tf.nn.bias_add_19 (TFOpLamb  (None, 100, 100, 3)      0         \n",
            " da)                                                             \n",
            "                                                                 \n",
            " resnet50 (Functional)       (None, 4, 4, 2048)        23587712  \n",
            "                                                                 \n",
            " global_average_pooling2d_19  (None, 2048)             0         \n",
            "  (GlobalAveragePooling2D)                                       \n",
            "                                                                 \n",
            " dense_37 (Dense)            (None, 1500)              3073500   \n",
            "                                                                 \n",
            " dropout_19 (Dropout)        (None, 1500)              0         \n",
            "                                                                 \n",
            " dense_38 (Dense)            (None, 10)                15010     \n",
            "                                                                 \n",
            "=================================================================\n",
            "Total params: 26,676,222\n",
            "Trainable params: 26,623,102\n",
            "Non-trainable params: 53,120\n",
            "_________________________________________________________________\n"
          ]
        }
      ]
    },
    {
      "cell_type": "code",
      "source": [
        "from keras import callbacks\n",
        "earlystopping = callbacks.EarlyStopping(monitor =\"val_loss\", \n",
        "                                        mode =\"min\", patience = 5, \n",
        "                                        restore_best_weights = True)\n",
        "  \n",
        "history = model.fit(partial, partial_labels, batch_size = 16, \n",
        "                    epochs = 100, validation_data =(val, val_labels), \n",
        "                    callbacks =[earlystopping])"
      ],
      "metadata": {
        "colab": {
          "base_uri": "https://localhost:8080/"
        },
        "id": "7Su31gf1EEKd",
        "outputId": "d8183d71-836a-4e61-b1f0-a00647e1990c"
      },
      "execution_count": null,
      "outputs": [
        {
          "output_type": "stream",
          "name": "stdout",
          "text": [
            "Epoch 1/100\n",
            "86/86 [==============================] - 13s 89ms/step - loss: 2.2641 - accuracy: 0.1702 - val_loss: 1.9824 - val_accuracy: 0.3869\n",
            "Epoch 2/100\n",
            "86/86 [==============================] - 6s 73ms/step - loss: 1.8381 - accuracy: 0.3185 - val_loss: 1.5089 - val_accuracy: 0.4672\n",
            "Epoch 3/100\n",
            "86/86 [==============================] - 6s 72ms/step - loss: 1.3676 - accuracy: 0.4815 - val_loss: 1.4244 - val_accuracy: 0.4307\n",
            "Epoch 4/100\n",
            "86/86 [==============================] - 7s 76ms/step - loss: 1.1295 - accuracy: 0.5615 - val_loss: 1.1015 - val_accuracy: 0.5839\n",
            "Epoch 5/100\n",
            "86/86 [==============================] - 6s 73ms/step - loss: 0.8810 - accuracy: 0.6618 - val_loss: 0.7937 - val_accuracy: 0.7263\n",
            "Epoch 6/100\n",
            "86/86 [==============================] - 6s 72ms/step - loss: 0.8137 - accuracy: 0.6851 - val_loss: 1.0521 - val_accuracy: 0.6314\n",
            "Epoch 7/100\n",
            "86/86 [==============================] - 6s 74ms/step - loss: 0.7253 - accuracy: 0.7265 - val_loss: 0.6256 - val_accuracy: 0.8066\n",
            "Epoch 8/100\n",
            "86/86 [==============================] - 6s 75ms/step - loss: 0.5901 - accuracy: 0.7927 - val_loss: 0.7293 - val_accuracy: 0.7628\n",
            "Epoch 9/100\n",
            "86/86 [==============================] - 6s 72ms/step - loss: 0.5708 - accuracy: 0.8015 - val_loss: 0.6339 - val_accuracy: 0.7664\n",
            "Epoch 10/100\n",
            "86/86 [==============================] - 6s 71ms/step - loss: 0.4804 - accuracy: 0.8167 - val_loss: 0.6785 - val_accuracy: 0.7737\n",
            "Epoch 11/100\n",
            "86/86 [==============================] - 6s 71ms/step - loss: 0.4195 - accuracy: 0.8480 - val_loss: 0.6480 - val_accuracy: 0.7774\n",
            "Epoch 12/100\n",
            "86/86 [==============================] - 6s 73ms/step - loss: 0.3681 - accuracy: 0.8655 - val_loss: 0.4904 - val_accuracy: 0.8467\n",
            "Epoch 13/100\n",
            "86/86 [==============================] - 6s 72ms/step - loss: 0.4440 - accuracy: 0.8349 - val_loss: 0.4252 - val_accuracy: 0.8467\n",
            "Epoch 14/100\n",
            "86/86 [==============================] - 6s 72ms/step - loss: 0.3258 - accuracy: 0.8887 - val_loss: 0.3766 - val_accuracy: 0.8796\n",
            "Epoch 15/100\n",
            "86/86 [==============================] - 6s 71ms/step - loss: 0.2876 - accuracy: 0.8938 - val_loss: 0.5750 - val_accuracy: 0.8066\n",
            "Epoch 16/100\n",
            "86/86 [==============================] - 6s 71ms/step - loss: 0.2602 - accuracy: 0.9047 - val_loss: 0.6998 - val_accuracy: 0.7664\n",
            "Epoch 17/100\n",
            "86/86 [==============================] - 6s 72ms/step - loss: 0.3394 - accuracy: 0.8807 - val_loss: 0.3426 - val_accuracy: 0.8686\n",
            "Epoch 18/100\n",
            "86/86 [==============================] - 6s 73ms/step - loss: 0.2800 - accuracy: 0.8967 - val_loss: 0.3222 - val_accuracy: 0.8978\n",
            "Epoch 19/100\n",
            "86/86 [==============================] - 6s 71ms/step - loss: 0.2023 - accuracy: 0.9295 - val_loss: 0.3296 - val_accuracy: 0.8686\n",
            "Epoch 20/100\n",
            "86/86 [==============================] - 6s 75ms/step - loss: 0.2439 - accuracy: 0.9193 - val_loss: 0.3507 - val_accuracy: 0.8540\n",
            "Epoch 21/100\n",
            "86/86 [==============================] - 6s 71ms/step - loss: 0.2259 - accuracy: 0.9244 - val_loss: 0.4198 - val_accuracy: 0.8504\n",
            "Epoch 22/100\n",
            "86/86 [==============================] - 6s 72ms/step - loss: 0.1532 - accuracy: 0.9455 - val_loss: 0.2568 - val_accuracy: 0.9015\n",
            "Epoch 23/100\n",
            "86/86 [==============================] - 6s 71ms/step - loss: 0.2824 - accuracy: 0.8975 - val_loss: 0.4117 - val_accuracy: 0.8431\n",
            "Epoch 24/100\n",
            "86/86 [==============================] - 6s 73ms/step - loss: 0.1467 - accuracy: 0.9469 - val_loss: 0.3129 - val_accuracy: 0.8796\n",
            "Epoch 25/100\n",
            "86/86 [==============================] - 6s 71ms/step - loss: 0.1547 - accuracy: 0.9462 - val_loss: 0.9101 - val_accuracy: 0.7080\n",
            "Epoch 26/100\n",
            "86/86 [==============================] - 6s 72ms/step - loss: 0.1933 - accuracy: 0.9302 - val_loss: 0.3889 - val_accuracy: 0.8796\n",
            "Epoch 27/100\n",
            "86/86 [==============================] - 6s 74ms/step - loss: 0.2016 - accuracy: 0.9375 - val_loss: 0.3725 - val_accuracy: 0.8577\n"
          ]
        }
      ]
    },
    {
      "cell_type": "code",
      "source": [
        "score = model.evaluate(X_test,Y_test, batch_size=16)"
      ],
      "metadata": {
        "colab": {
          "base_uri": "https://localhost:8080/"
        },
        "id": "Dl8-wc6qBO2s",
        "outputId": "c2f2c01b-9a85-4563-ccdf-c7b5d97cd922"
      },
      "execution_count": null,
      "outputs": [
        {
          "output_type": "stream",
          "name": "stdout",
          "text": [
            "26/26 [==============================] - 1s 23ms/step - loss: 0.2531 - accuracy: 0.9225\n"
          ]
        }
      ]
    },
    {
      "cell_type": "markdown",
      "source": [
        "The model accuracy for test dataset is 92.25%."
      ],
      "metadata": {
        "id": "aRPS6CVwpxJO"
      }
    },
    {
      "cell_type": "markdown",
      "source": [
        "# Inceptionv3"
      ],
      "metadata": {
        "id": "VTmw0e2M8-3u"
      }
    },
    {
      "cell_type": "markdown",
      "source": [
        "When building the last layers of Inceptionv3, I first added the GlobalAveragePooling2D() to create feature map for each cagetory. I then added a dense layer of 1200 units with relu activation and found model performance improved. I tried other activation methods and model didn't improve. I also tried adding another dense layer and performance decreased. I tried several drop out values and found 0.3 the best. After tuning the last layers, I unfreeze the base model and retrain the whole model with a very low learning rate. I've tried some different values of learning rate and found lr = le-6 the best. When fit the model, I used EarlyStopping function in keras to find the optimal epoch value to avoid the issue of overfiffting."
      ],
      "metadata": {
        "id": "b9i--iUbEW5n"
      }
    },
    {
      "cell_type": "code",
      "source": [
        "seed(123)\n",
        "tf.random.set_seed(123)"
      ],
      "metadata": {
        "id": "XHWvQRi29K5j"
      },
      "execution_count": null,
      "outputs": []
    },
    {
      "cell_type": "code",
      "source": [
        "#Load the Xception pre-trained model\n",
        "#include_top=False means that you’re not interested in the last layer of the model. You will be creating and training this layer yourself.\n",
        "base_model = keras.applications.InceptionV3(\n",
        "    weights='imagenet',\n",
        "    input_shape=(img_height, img_width, 3),\n",
        "    include_top=False)"
      ],
      "metadata": {
        "id": "LE1wmYur9RZ3"
      },
      "execution_count": null,
      "outputs": []
    },
    {
      "cell_type": "code",
      "source": [
        "#To prevent the base model being retrained\n",
        "base_model.trainable = False\n",
        "\n",
        "inputs = keras.Input(shape=(img_height, img_width, 3))\n",
        "\n",
        "# Preprocess inputs as expected by ResNet\n",
        "x = tf.keras.applications.inception_v3.preprocess_input(inputs)"
      ],
      "metadata": {
        "id": "dT12c0kc9eXv"
      },
      "execution_count": null,
      "outputs": []
    },
    {
      "cell_type": "code",
      "source": [
        "#Build the last layers\n",
        "#Use the functional API method in Keras to illustrate this approach\n",
        "x = base_model(x, training=False)\n",
        "x = keras.layers.GlobalAveragePooling2D()(x)\n",
        "x = keras.layers.Dense(1200, activation=\"relu\")(x)\n",
        "x = keras.layers.Dropout(0.3)(x)\n",
        "outputs = keras.layers.Dense(10)(x)\n",
        "model = keras.Model(inputs, outputs)"
      ],
      "metadata": {
        "id": "77MwO7XA9pGL"
      },
      "execution_count": null,
      "outputs": []
    },
    {
      "cell_type": "code",
      "source": [
        "model.compile(optimizer='adam',\n",
        "              loss=tf.keras.losses.CategoricalCrossentropy(from_logits=True),\n",
        "              metrics=['accuracy'])\n",
        "model.fit(X, Y, epochs=3, validation_data=(X_test,Y_test))\n",
        "score = model.evaluate(X_test,Y_test, batch_size=16)"
      ],
      "metadata": {
        "colab": {
          "base_uri": "https://localhost:8080/"
        },
        "id": "51Sze4jxC8c_",
        "outputId": "ead2648c-24e8-4db7-d2fa-4ba67301e0a5"
      },
      "execution_count": null,
      "outputs": [
        {
          "output_type": "stream",
          "name": "stdout",
          "text": [
            "Epoch 1/3\n",
            "52/52 [==============================] - 7s 51ms/step - loss: 1.8960 - accuracy: 0.3505 - val_loss: 1.3733 - val_accuracy: 0.4843\n",
            "Epoch 2/3\n",
            "52/52 [==============================] - 1s 26ms/step - loss: 1.2632 - accuracy: 0.5561 - val_loss: 1.0339 - val_accuracy: 0.6852\n",
            "Epoch 3/3\n",
            "52/52 [==============================] - 1s 26ms/step - loss: 1.0522 - accuracy: 0.6295 - val_loss: 0.9495 - val_accuracy: 0.6925\n",
            "26/26 [==============================] - 0s 17ms/step - loss: 0.9495 - accuracy: 0.6925\n"
          ]
        }
      ]
    },
    {
      "cell_type": "code",
      "source": [
        "base_model.trainable = True\n",
        "model.summary()\n",
        "\n",
        "model.compile(\n",
        "    optimizer=keras.optimizers.Adam(1e-5),  # Low learning rate\n",
        "    loss=keras.losses.CategoricalCrossentropy(from_logits=True),\n",
        "    metrics=['accuracy']\n",
        ")"
      ],
      "metadata": {
        "colab": {
          "base_uri": "https://localhost:8080/"
        },
        "id": "jNtmewZvDDIA",
        "outputId": "8fa8d1ba-fdaa-4d48-8058-d4fcf2a3ee71"
      },
      "execution_count": null,
      "outputs": [
        {
          "output_type": "stream",
          "name": "stdout",
          "text": [
            "Model: \"model_12\"\n",
            "_________________________________________________________________\n",
            " Layer (type)                Output Shape              Param #   \n",
            "=================================================================\n",
            " input_26 (InputLayer)       [(None, 100, 100, 3)]     0         \n",
            "                                                                 \n",
            " tf.math.truediv_12 (TFOpLam  (None, 100, 100, 3)      0         \n",
            " bda)                                                            \n",
            "                                                                 \n",
            " tf.math.subtract_12 (TFOpLa  (None, 100, 100, 3)      0         \n",
            " mbda)                                                           \n",
            "                                                                 \n",
            " inception_v3 (Functional)   (None, 1, 1, 2048)        21802784  \n",
            "                                                                 \n",
            " global_average_pooling2d_12  (None, 2048)             0         \n",
            "  (GlobalAveragePooling2D)                                       \n",
            "                                                                 \n",
            " dense_25 (Dense)            (None, 1200)              2458800   \n",
            "                                                                 \n",
            " dropout_12 (Dropout)        (None, 1200)              0         \n",
            "                                                                 \n",
            " dense_26 (Dense)            (None, 10)                12010     \n",
            "                                                                 \n",
            "=================================================================\n",
            "Total params: 24,273,594\n",
            "Trainable params: 24,239,162\n",
            "Non-trainable params: 34,432\n",
            "_________________________________________________________________\n"
          ]
        }
      ]
    },
    {
      "cell_type": "code",
      "source": [
        "from keras import callbacks\n",
        "earlystopping = callbacks.EarlyStopping(monitor =\"val_loss\", \n",
        "                                        mode =\"min\", patience = 5, \n",
        "                                        restore_best_weights = True)\n",
        "  \n",
        "history = model.fit(partial, partial_labels, batch_size = 16, \n",
        "                    epochs = 100, validation_data =(val, val_labels), \n",
        "                    callbacks =[earlystopping])"
      ],
      "metadata": {
        "colab": {
          "base_uri": "https://localhost:8080/"
        },
        "id": "q-X_s1w07bh5",
        "outputId": "ed9e2960-23e0-4c07-8b42-43818fddc58e"
      },
      "execution_count": null,
      "outputs": [
        {
          "output_type": "stream",
          "name": "stdout",
          "text": [
            "Epoch 1/100\n",
            "52/52 [==============================] - 11s 101ms/step - loss: 2.0680 - accuracy: 0.2970 - val_loss: 1.4040 - val_accuracy: 0.5267\n",
            "Epoch 2/100\n",
            "52/52 [==============================] - 3s 61ms/step - loss: 1.4204 - accuracy: 0.4691 - val_loss: 1.5199 - val_accuracy: 0.4041\n",
            "Epoch 3/100\n",
            "52/52 [==============================] - 3s 64ms/step - loss: 1.2795 - accuracy: 0.4824 - val_loss: 1.1156 - val_accuracy: 0.5692\n",
            "Epoch 4/100\n",
            "52/52 [==============================] - 3s 64ms/step - loss: 1.1120 - accuracy: 0.5673 - val_loss: 1.0592 - val_accuracy: 0.6129\n",
            "Epoch 5/100\n",
            "52/52 [==============================] - 3s 64ms/step - loss: 0.8865 - accuracy: 0.6618 - val_loss: 0.9533 - val_accuracy: 0.5934\n",
            "Epoch 6/100\n",
            "52/52 [==============================] - 3s 64ms/step - loss: 1.1001 - accuracy: 0.5976 - val_loss: 0.7834 - val_accuracy: 0.7403\n",
            "Epoch 7/100\n",
            "52/52 [==============================] - 3s 64ms/step - loss: 0.7892 - accuracy: 0.7139 - val_loss: 0.6755 - val_accuracy: 0.7367\n",
            "Epoch 8/100\n",
            "52/52 [==============================] - 4s 72ms/step - loss: 0.6774 - accuracy: 0.7394 - val_loss: 0.8975 - val_accuracy: 0.6917\n",
            "Epoch 9/100\n",
            "52/52 [==============================] - 4s 71ms/step - loss: 0.6128 - accuracy: 0.7782 - val_loss: 0.6495 - val_accuracy: 0.7536\n",
            "Epoch 10/100\n",
            "52/52 [==============================] - 4s 78ms/step - loss: 0.6842 - accuracy: 0.7515 - val_loss: 0.5993 - val_accuracy: 0.7803\n",
            "Epoch 11/100\n",
            "52/52 [==============================] - 4s 75ms/step - loss: 0.5318 - accuracy: 0.8194 - val_loss: 0.5760 - val_accuracy: 0.7864\n",
            "Epoch 12/100\n",
            "52/52 [==============================] - 3s 65ms/step - loss: 0.3998 - accuracy: 0.8739 - val_loss: 0.4600 - val_accuracy: 0.8374\n",
            "Epoch 13/100\n",
            "52/52 [==============================] - 4s 72ms/step - loss: 0.4576 - accuracy: 0.8509 - val_loss: 0.7318 - val_accuracy: 0.7342\n",
            "Epoch 14/100\n",
            "52/52 [==============================] - 3s 65ms/step - loss: 0.7270 - accuracy: 0.7406 - val_loss: 0.4524 - val_accuracy: 0.8556\n",
            "Epoch 15/100\n",
            "52/52 [==============================] - 4s 72ms/step - loss: 0.4532 - accuracy: 0.8424 - val_loss: 0.6309 - val_accuracy: 0.7791\n",
            "Epoch 16/100\n",
            "52/52 [==============================] - 4s 72ms/step - loss: 0.4121 - accuracy: 0.8473 - val_loss: 0.5096 - val_accuracy: 0.8228\n",
            "Epoch 17/100\n",
            "52/52 [==============================] - 3s 64ms/step - loss: 0.4315 - accuracy: 0.8364 - val_loss: 0.3523 - val_accuracy: 0.8774\n",
            "Epoch 18/100\n",
            "52/52 [==============================] - 3s 64ms/step - loss: 0.2602 - accuracy: 0.9079 - val_loss: 0.3145 - val_accuracy: 0.8883\n",
            "Epoch 19/100\n",
            "52/52 [==============================] - 3s 62ms/step - loss: 0.2696 - accuracy: 0.8958 - val_loss: 0.3883 - val_accuracy: 0.8726\n",
            "Epoch 20/100\n",
            "52/52 [==============================] - 3s 61ms/step - loss: 0.2833 - accuracy: 0.9030 - val_loss: 0.3617 - val_accuracy: 0.8750\n",
            "Epoch 21/100\n",
            "52/52 [==============================] - 3s 61ms/step - loss: 0.3654 - accuracy: 0.8715 - val_loss: 0.3713 - val_accuracy: 0.8629\n",
            "Epoch 22/100\n",
            "52/52 [==============================] - 3s 62ms/step - loss: 0.3447 - accuracy: 0.8836 - val_loss: 0.3816 - val_accuracy: 0.8617\n",
            "Epoch 23/100\n",
            "52/52 [==============================] - 3s 64ms/step - loss: 0.3965 - accuracy: 0.8545 - val_loss: 0.3652 - val_accuracy: 0.8726\n"
          ]
        }
      ]
    },
    {
      "cell_type": "code",
      "source": [
        "score = model.evaluate(X_test,Y_test, batch_size=16)"
      ],
      "metadata": {
        "colab": {
          "base_uri": "https://localhost:8080/"
        },
        "id": "zP8nGWNT9j_g",
        "outputId": "0ca8c17b-5486-42e8-f9c2-f55eadb50fd6"
      },
      "execution_count": null,
      "outputs": [
        {
          "output_type": "stream",
          "name": "stdout",
          "text": [
            "26/26 [==============================] - 1s 21ms/step - loss: 0.3001 - accuracy: 0.9007\n"
          ]
        }
      ]
    },
    {
      "cell_type": "markdown",
      "source": [
        "The Inceptionv3 model has a accuracy of 90.07%. "
      ],
      "metadata": {
        "id": "x_I8w9KjIjt-"
      }
    }
  ],
  "metadata": {
    "colab": {
      "provenance": []
    },
    "kernelspec": {
      "display_name": "Python 3",
      "name": "python3"
    },
    "language_info": {
      "name": "python"
    },
    "accelerator": "GPU",
    "gpuClass": "standard"
  },
  "nbformat": 4,
  "nbformat_minor": 0
}